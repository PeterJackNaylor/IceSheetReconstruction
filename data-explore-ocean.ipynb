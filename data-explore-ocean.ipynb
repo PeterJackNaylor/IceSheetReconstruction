{
 "cells": [
  {
   "cell_type": "code",
   "execution_count": null,
   "metadata": {},
   "outputs": [],
   "source": [
    "import xarray\n",
    "from glob import glob\n",
    "import numpy as np\n",
    "import pandas as pd\n",
    "import os\n",
    "import matplotlib.pylab as plt"
   ]
  },
  {
   "cell_type": "markdown",
   "metadata": {},
   "source": [
    "# Playing with the generated maps (a bit our reference).\n",
    "This is not observed data, we have only a small portion of this to work on."
   ]
  },
  {
   "cell_type": "code",
   "execution_count": null,
   "metadata": {},
   "outputs": [],
   "source": [
    "full_map = \"./data/ocean/2020a_SSH_mapping_NATL60_DUACS_en_j1_tpn_g2.nc\"\n",
    "full_map_swot = \"./data/ocean/2020a_SSH_mapping_NATL60_DUACS_swot_en_j1_tpn_g2.nc\"\n",
    "\n",
    "xf_map = xarray.open_dataset(full_map)\n",
    "xf_map_swot = xarray.open_dataset(full_map_swot)\n",
    "xf_map"
   ]
  },
  {
   "cell_type": "code",
   "execution_count": null,
   "metadata": {},
   "outputs": [],
   "source": [
    "xf_map.gssh[-1].plot()\n",
    "plt.show()\n",
    "xf_map_swot.gssh[-1].plot()\n",
    "plt.show()"
   ]
  },
  {
   "cell_type": "markdown",
   "metadata": {},
   "source": [
    "# Playing with the real data\n",
    "Each files comes from one sensor and we do not use the swot file that have a bigger band."
   ]
  },
  {
   "cell_type": "code",
   "execution_count": null,
   "metadata": {},
   "outputs": [],
   "source": [
    "all_data = []\n",
    "files = glob(\"./data/ocean/dc_obs/*.nc\")\n",
    "\n",
    "# x_al\n",
    "# ncycle\n",
    "# model_index\n",
    "# ssh_obs\n",
    "# ssh_model\n",
    "# nadir_err\n",
    "\n",
    "\n",
    "\n",
    "for f in files:\n",
    "    print(\"#####\" * 10 + \"\\n\")\n",
    "    print(f\"Processing : {os.path.basename(f)}\\n\")\n",
    "    xf = xarray.open_dataset(f)\n",
    "    df = xf.to_dataframe() # matches the first file\n",
    "    tdf = df.reset_index()\n",
    "    print(f\"Begining date: {tdf.time.min()}\")\n",
    "    print(f\"End date: {tdf.time.max()}\")\n",
    "    print(f\"Number of timesteps: {len(tdf.time.unique())}\")\n",
    "    print(\"\\n\")\n",
    "    print(f\"Smallest latitude: {tdf.lat.min()}\")\n",
    "    print(f\"Largest latitude: {tdf.lat.max()}\")\n",
    "    print(\"\\n\")\n",
    "    print(f\"Smallest longitude: {tdf.lon.min()}\")\n",
    "    print(f\"Largest longitude: {tdf.lon.max()}\")\n",
    "    print(\"\\n\")\n",
    "    \n",
    "    if \"swot\" not in f:\n",
    "        cols = ['time', 'lon', 'lat', 'ssh_obs', 'ssh_model']\n",
    "        tdf[\"lon\"] -= 360.\n",
    "        all_data.append(tdf[cols])\n",
    "data = pd.concat(all_data, axis=0).reset_index(drop=True)"
   ]
  },
  {
   "cell_type": "code",
   "execution_count": null,
   "metadata": {},
   "outputs": [],
   "source": [
    "plt.scatter(xf.lon-360, xf.lat, c=xf.ssh_model,vmin=-.5,vmax=1)"
   ]
  },
  {
   "cell_type": "markdown",
   "metadata": {},
   "source": [
    "We can overlay this with the preceding picture"
   ]
  },
  {
   "cell_type": "code",
   "execution_count": null,
   "metadata": {},
   "outputs": [],
   "source": [
    "plt.figure()\n",
    "xf_map_swot.sel(lon=slice(-65,-55),lat=slice(33,43)).gssh[-1].plot(vmin=-.5,vmax=1)\n",
    "plt.scatter(xf.lon-360, xf.lat, c=xf.ssh_model,vmin=-.5,vmax=1)\n"
   ]
  },
  {
   "cell_type": "code",
   "execution_count": null,
   "metadata": {},
   "outputs": [],
   "source": [
    "var_interest = \"ssh_model\"\n",
    "other_vars = [\"lon\", \"lat\", var_interest, \"time\"]\n",
    "tmp = data[other_vars]\n",
    "tmp.time = tmp.time.astype(\"int\") / 1000\n",
    "npy = tmp.values\n",
    "np.save(\"data/oceans_challenge.npy\", npy)"
   ]
  }
 ],
 "metadata": {
  "kernelspec": {
   "display_name": "Python 3",
   "language": "python",
   "name": "python3"
  },
  "language_info": {
   "codemirror_mode": {
    "name": "ipython",
    "version": 3
   },
   "file_extension": ".py",
   "mimetype": "text/x-python",
   "name": "python",
   "nbconvert_exporter": "python",
   "pygments_lexer": "ipython3",
   "version": "3.8.16"
  }
 },
 "nbformat": 4,
 "nbformat_minor": 2
}
