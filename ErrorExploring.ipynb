{
 "cells": [
  {
   "cell_type": "code",
   "execution_count": null,
   "metadata": {},
   "outputs": [],
   "source": [
    "# Global variables\n",
    "import torch\n",
    "import inr_src as inr\n",
    "import numpy as np\n",
    "import pandas as pd\n",
    "import plotly.express as px\n",
    "import plotly.graph_objects as go\n",
    "\n",
    "from scipy import interpolate\n",
    "from sklearn.metrics import mean_squared_error, mean_absolute_error\n",
    "\n",
    "\n",
    "gpu = torch.cuda.is_available()\n",
    "device = \"cuda\" if gpu else \"cpu\"\n",
    "tdevice = torch.device(device)\n",
    "# project variables\n",
    "opt = inr.AttrDict()\n",
    "opt.name = \"wires_notebook_unnormalised__test546\"\n",
    "# model meta data\n",
    "npz = np.load(f\"meta/{opt.name}.npz\")\n",
    "model_hp = inr.AttrDict(npz)\n",
    "model_hp = inr.util_train.clean_hp(model_hp)\n",
    "# data path\n",
    "path = \"./data/test_data.npy\"\n",
    "path_coherence = \"./data/coherence.npy\""
   ]
  },
  {
   "cell_type": "code",
   "execution_count": null,
   "metadata": {},
   "outputs": [],
   "source": [
    "# load data\n",
    "xytz_ds = inr.XYTZ(\n",
    "        path,\n",
    "        train_fold=False,\n",
    "        train_fraction=0.0,\n",
    "        seed=42,\n",
    "        pred_type=\"pc\",\n",
    "        nv=tuple(model_hp.nv),\n",
    "        nv_targets=tuple(model_hp.nv_target),\n",
    "        normalise_targets=model_hp.normalise_targets,\n",
    "        gpu=gpu\n",
    "    )\n",
    "coherence = np.load(path_coherence)\n"
   ]
  },
  {
   "cell_type": "code",
   "execution_count": null,
   "metadata": {},
   "outputs": [],
   "source": [
    "# Or if you prefer to load the model\n",
    "## From saved\n",
    "weights = f\"meta/{opt.name}.pth\"\n",
    "\n",
    "model = inr.ReturnModel(\n",
    "    model_hp.input_size,\n",
    "    output_size=model_hp.output_size,\n",
    "    arch=model_hp.architecture,\n",
    "    args=model_hp,\n",
    ")\n",
    "print(f\"loading weight: {weights}\")\n",
    "print(f\"Model_hp: {model_hp}\")\n",
    "model.load_state_dict(torch.load(weights, map_location=tdevice))"
   ]
  },
  {
   "cell_type": "code",
   "execution_count": null,
   "metadata": {},
   "outputs": [],
   "source": [
    "prediction = inr.predict_loop(xytz_ds, 2048, model, device=device, verbose=False)\n",
    "\n",
    "def scale(x):\n",
    "    s = model_hp.nv_target[0,1]\n",
    "    m = model_hp.nv_target[0,0]\n",
    "    return (x + m)*s \n",
    "for val in [0, 0.7, 0.8, 0.95]:\n",
    "    n = prediction.shape[0]\n",
    "    if val == 0:\n",
    "        idx = range(n)\n",
    "    else:\n",
    "        idx = np.where(coherence > val)[0]\n",
    "    mse_norm = mean_squared_error(xytz_ds.targets[idx], prediction[idx])\n",
    "    mae_norm = mean_absolute_error(xytz_ds.targets[idx], prediction[idx])\n",
    "    print(f\"RMSE: {scale(mse_norm):.3f} MAE: {scale(mae_norm):.3f} Size: {n}, coherence > {val}\")\n"
   ]
  },
  {
   "cell_type": "code",
   "execution_count": null,
   "metadata": {},
   "outputs": [],
   "source": [
    "\n"
   ]
  },
  {
   "cell_type": "code",
   "execution_count": null,
   "metadata": {},
   "outputs": [],
   "source": [
    "\n",
    "\n",
    "q33 = np.quantile(xytz_ds.samples[:,2], 0.33)\n",
    "q66 = np.quantile(xytz_ds.samples[:,2], 0.66)\n",
    "\n",
    "idx_0 = xytz_ds.samples[:,2] < q33\n",
    "idx_1 = (xytz_ds.samples[:,2] >= q33) & (xytz_ds.samples[:,2] < q66)\n",
    "idx_2 = (xytz_ds.samples[:,2] >= q66)\n",
    "\n",
    "for idx, title in [(idx_0, \"Jan.\"), (idx_1, \"Feb.\"), (idx_2, \"Mar.\")]:\n",
    "    samples = xytz_ds.samples[idx] * model_hp.nv[:,1] + model_hp.nv[:,0]\n",
    "    pred = prediction[idx,0] * model_hp.nv_target[0,1] + model_hp.nv_target[0,0]\n",
    "\n",
    "    idx = np.random.choice(np.arange(samples.shape[0]), replace=False, size=int(1e5))\n",
    "    fig = px.scatter_3d(x=samples[idx,0], y=samples[idx,1], z=pred[idx],\n",
    "                color=samples[idx,2])\n",
    "    fig.update_layout(title=title, legend_title_text=\"Time\")\n",
    "    fig.update_traces(marker_size=2)\n",
    "    fig.show()\n"
   ]
  }
 ],
 "metadata": {
  "kernelspec": {
   "display_name": "Python 3",
   "language": "python",
   "name": "python3"
  },
  "language_info": {
   "codemirror_mode": {
    "name": "ipython",
    "version": 3
   },
   "file_extension": ".py",
   "mimetype": "text/x-python",
   "name": "python",
   "nbconvert_exporter": "python",
   "pygments_lexer": "ipython3",
   "version": "3.8.16"
  }
 },
 "nbformat": 4,
 "nbformat_minor": 2
}
